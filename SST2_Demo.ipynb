{
 "cells": [
  {
   "cell_type": "code",
   "execution_count": 1,
   "id": "340ef5ed-3887-4b49-bb22-64f0048b7375",
   "metadata": {},
   "outputs": [],
   "source": [
    "from transformers import pipeline\n",
    "from datasets import load_dataset\n",
    "import random"
   ]
  },
  {
   "cell_type": "code",
   "execution_count": 2,
   "id": "f356a67a-27a3-4cd2-b74b-316c82c14db7",
   "metadata": {},
   "outputs": [
    {
     "name": "stderr",
     "output_type": "stream",
     "text": [
      "Found cached dataset glue (C:/Users/wangd/.cache/huggingface/datasets/glue/sst2/1.0.0/dacbe3125aa31d7f70367a07a8a9e72a5a0bfeb5fc42e75c9db75b96da6053ad)\n"
     ]
    },
    {
     "data": {
      "application/vnd.jupyter.widget-view+json": {
       "model_id": "f41044a30c084a0f9a3233b2c547d16f",
       "version_major": 2,
       "version_minor": 0
      },
      "text/plain": [
       "  0%|          | 0/3 [00:00<?, ?it/s]"
      ]
     },
     "metadata": {},
     "output_type": "display_data"
    }
   ],
   "source": [
    "dataset = load_dataset(\"glue\", \"sst2\")"
   ]
  },
  {
   "cell_type": "code",
   "execution_count": 3,
   "id": "d7add413-b2d5-48be-a692-790ad50b1eac",
   "metadata": {},
   "outputs": [],
   "source": [
    "train_dataset = dataset[\"train\"]\n",
    "validation_dataset = dataset[\"validation\"]\n",
    "test_dataset = dataset[\"test\"]"
   ]
  },
  {
   "cell_type": "code",
   "execution_count": 4,
   "id": "4fb447bd-1eec-478c-a3f5-ceef0cb8a6bd",
   "metadata": {},
   "outputs": [
    {
     "name": "stdout",
     "output_type": "stream",
     "text": [
      "Number of training examples: 67349\n",
      "Number of validation examples: 872\n",
      "Number of test examples: 1821\n"
     ]
    }
   ],
   "source": [
    "print(f\"Number of training examples: {len(train_dataset)}\")\n",
    "print(f\"Number of validation examples: {len(validation_dataset)}\")\n",
    "print(f\"Number of test examples: {len(test_dataset)}\")"
   ]
  },
  {
   "cell_type": "code",
   "execution_count": 13,
   "id": "1fde86db-176a-4be9-ab9a-b30f53c2f793",
   "metadata": {},
   "outputs": [
    {
     "name": "stdout",
     "output_type": "stream",
     "text": [
      "Label: Negative; Sentence: \"pretentious mess \"\n",
      "Label: Positive; Sentence: \"impressive talent \"\n",
      "Label: Positive; Sentence: \"to enjoy its own transparency \"\n",
      "Label: Positive; Sentence: \"it is about a domestic unit finding their way to joy \"\n",
      "Label: Positive; Sentence: \"will warm your heart \"\n",
      "Label: Positive; Sentence: \"the exuberant openness with which he expresses our most basic emotions \"\n",
      "Label: Negative; Sentence: \"the sketchiest \"\n",
      "Label: Positive; Sentence: \"is surprisingly brilliant , \"\n",
      "Label: Negative; Sentence: \"through about 90 minutes of a so-called ` comedy ' and not laugh \"\n",
      "Label: Negative; Sentence: \"as single-minded as john carpenter 's original \"\n",
      "Label: Positive; Sentence: \"truth-telling \"\n",
      "Label: Negative; Sentence: \"is n't worth telling \"\n",
      "Label: Positive; Sentence: \"dave barry 's \"\n",
      "Label: Negative; Sentence: \"like a surgeon mends a broken heart ; very meticulously but without any passion \"\n",
      "Label: Positive; Sentence: \"that he 's going to make a splash even greater than arnold schwarzenegger , jean-claud van damme or steven segal \"\n",
      "Label: Negative; Sentence: \"she has n't been worth caring about \"\n",
      "Label: Negative; Sentence: \"'s no energy \"\n",
      "Label: Negative; Sentence: \"a weak and ineffective ghost story without a conclusion or pay off . \"\n",
      "Label: Positive; Sentence: \"at its visual delights \"\n",
      "Label: Positive; Sentence: \"a reasonably good time with the salton sea \"\n",
      "Label: Positive; Sentence: \"far more successful , if considerably less ambitious , \"\n",
      "Label: Negative; Sentence: \"its story is only surface deep \"\n",
      "Label: Positive; Sentence: \"solid acting \"\n",
      "Label: Negative; Sentence: \"never quite makes the grade as tawdry trash . \"\n",
      "Label: Positive; Sentence: \"time is a beautiful film to watch , an interesting and at times captivating take on loss and loneliness . \"\n",
      "Label: Positive; Sentence: \"the difference between cho and most comics is that her confidence in her material is merited . \"\n"
     ]
    }
   ],
   "source": [
    "rate = 20 / len(train_dataset)\n",
    "\n",
    "for example in train_dataset:\n",
    "    if random.random() < rate:\n",
    "        # print(example)\n",
    "        print(f\"Label: {'Negative' if example['label'] == 0 else 'Positive'}; Sentence: \\\"{example['sentence']}\\\"\")\n"
   ]
  },
  {
   "cell_type": "code",
   "execution_count": null,
   "id": "db8eb3a1-9b93-4bf5-9b74-830d803e8446",
   "metadata": {},
   "outputs": [],
   "source": []
  },
  {
   "cell_type": "code",
   "execution_count": null,
   "id": "15481680-56b2-4a01-85bf-7d5b0e0cec22",
   "metadata": {},
   "outputs": [],
   "source": []
  }
 ],
 "metadata": {
  "kernelspec": {
   "display_name": "Python [conda env:CMSC421]",
   "language": "python",
   "name": "conda-env-CMSC421-py"
  },
  "language_info": {
   "codemirror_mode": {
    "name": "ipython",
    "version": 3
   },
   "file_extension": ".py",
   "mimetype": "text/x-python",
   "name": "python",
   "nbconvert_exporter": "python",
   "pygments_lexer": "ipython3",
   "version": "3.11.5"
  }
 },
 "nbformat": 4,
 "nbformat_minor": 5
}
